{
 "cells": [
  {
   "cell_type": "markdown",
   "metadata": {},
   "source": [
    "# Project Sandbox\n",
    "\n",
    "Space for testing code."
   ]
  },
  {
   "cell_type": "markdown",
   "metadata": {},
   "source": [
    "### Setup"
   ]
  },
  {
   "cell_type": "code",
   "execution_count": 11,
   "metadata": {},
   "outputs": [],
   "source": [
    "import torch\n",
    "from torchvision.transforms import transforms\n",
    "from util.pytorch_dataset import image_dataset\n",
    "import pandas as pd\n",
    "\n",
    "# path to MNIST image data directory\n",
    "MNIST_DIR = \"/home/dylan/datasets/mnist_png/\""
   ]
  },
  {
   "cell_type": "markdown",
   "metadata": {},
   "source": [
    "### Create an MNIST Image PyTorch Dataloader\n",
    "\n",
    "The MNIST dataset has been previously written to a local directory such that each sample is saved as an image file in either a `train` or `test` directory accompanied by a `csv` file which maps image filenames to labels."
   ]
  },
  {
   "cell_type": "code",
   "execution_count": 14,
   "metadata": {},
   "outputs": [],
   "source": [
    "# read train/test label files\n",
    "train_labels_df = pd.read_csv('{}train_labels.csv'.format(MNIST_DIR))\n",
    "test_labels_df = pd.read_csv('{}test_labels.csv'.format(MNIST_DIR))\n",
    "\n",
    "# convert labels column to list\n",
    "train_labels = train_labels_df['Label'].to_list()\n",
    "test_labels = test_labels_df['Label'].to_list()\n",
    "\n",
    "# convert filename column to list of absolute paths\n",
    "train_files = train_labels_df['Image Filename'].map(lambda x: \\\n",
    "    '{}train/{}'.format(MNIST_DIR, x)).to_list()\n",
    "test_files = test_labels_df['Image Filename'].map(lambda x: \\\n",
    "    '{}test/{}'.format(MNIST_DIR, x)).to_list()\n",
    "\n",
    "# package data to dictionary\n",
    "data_lists = {\n",
    "    'train_files': train_files,\n",
    "    'train_labels': train_labels,\n",
    "    'test_files': test_files,\n",
    "    'test_labels': test_labels,\n",
    "}\n",
    "\n",
    "# get lists of training/testing labelsprint(test_img_files[-10:])\n",
    "\n",
    "# define the transform chain to process each sample as it is passed to a batch\n",
    "#   1. resize the sample (image) to 32x32 (h, w)\n",
    "#   2. convert resized sample to Pytorch tensor\n",
    "#   3. normalize sample values (pixel values) using mean 0.5 and stdev 0,5; [0, 255] -> [0, 1]\n",
    "transform = transforms.Compose([\n",
    "    transforms.Resize((32, 32)),\n",
    "    transforms.ToTensor(),\n",
    "    transforms.Normalize((0.5,), (0.5,))\n",
    "])"
   ]
  },
  {
   "cell_type": "code",
   "execution_count": 15,
   "metadata": {},
   "outputs": [
    {
     "name": "stdout",
     "output_type": "stream",
     "text": [
      "[5, 0, 4, 1, 9, 2, 1, 3, 1, 4, 3, 5, 3, 6, 1, 7, 2, 8, 6, 9, 4, 0, 9, 1, 1, 2, 4, 3, 2, 7, 3, 8]\n"
     ]
    }
   ],
   "source": [
    "print(train_labels[:32])"
   ]
  },
  {
   "cell_type": "code",
   "execution_count": null,
   "metadata": {},
   "outputs": [],
   "source": []
  }
 ],
 "metadata": {
  "kernelspec": {
   "display_name": "Python 3",
   "language": "python",
   "name": "python3"
  },
  "language_info": {
   "codemirror_mode": {
    "name": "ipython",
    "version": 3
   },
   "file_extension": ".py",
   "mimetype": "text/x-python",
   "name": "python",
   "nbconvert_exporter": "python",
   "pygments_lexer": "ipython3",
   "version": "3.7.4"
  }
 },
 "nbformat": 4,
 "nbformat_minor": 4
}
